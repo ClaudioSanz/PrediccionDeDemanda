{
 "cells": [
  {
   "cell_type": "code",
   "execution_count": 23,
   "metadata": {},
   "outputs": [
    {
     "data": {
      "text/html": [
       "<div>\n",
       "<style scoped>\n",
       "    .dataframe tbody tr th:only-of-type {\n",
       "        vertical-align: middle;\n",
       "    }\n",
       "\n",
       "    .dataframe tbody tr th {\n",
       "        vertical-align: top;\n",
       "    }\n",
       "\n",
       "    .dataframe thead th {\n",
       "        text-align: right;\n",
       "    }\n",
       "</style>\n",
       "<table border=\"1\" class=\"dataframe\">\n",
       "  <thead>\n",
       "    <tr style=\"text-align: right;\">\n",
       "      <th></th>\n",
       "      <th>periodo</th>\n",
       "      <th>data</th>\n",
       "      <th>pred_slr</th>\n",
       "    </tr>\n",
       "  </thead>\n",
       "  <tbody>\n",
       "    <tr>\n",
       "      <th>0</th>\n",
       "      <td>1</td>\n",
       "      <td>3141</td>\n",
       "      <td>2935.057143</td>\n",
       "    </tr>\n",
       "    <tr>\n",
       "      <th>1</th>\n",
       "      <td>2</td>\n",
       "      <td>2087</td>\n",
       "      <td>2938.319549</td>\n",
       "    </tr>\n",
       "    <tr>\n",
       "      <th>2</th>\n",
       "      <td>3</td>\n",
       "      <td>3102</td>\n",
       "      <td>2941.581955</td>\n",
       "    </tr>\n",
       "    <tr>\n",
       "      <th>3</th>\n",
       "      <td>4</td>\n",
       "      <td>3415</td>\n",
       "      <td>2944.844361</td>\n",
       "    </tr>\n",
       "    <tr>\n",
       "      <th>4</th>\n",
       "      <td>5</td>\n",
       "      <td>3373</td>\n",
       "      <td>2948.106767</td>\n",
       "    </tr>\n",
       "    <tr>\n",
       "      <th>5</th>\n",
       "      <td>6</td>\n",
       "      <td>2352</td>\n",
       "      <td>2951.369173</td>\n",
       "    </tr>\n",
       "    <tr>\n",
       "      <th>6</th>\n",
       "      <td>7</td>\n",
       "      <td>3135</td>\n",
       "      <td>2954.631579</td>\n",
       "    </tr>\n",
       "    <tr>\n",
       "      <th>7</th>\n",
       "      <td>8</td>\n",
       "      <td>3406</td>\n",
       "      <td>2957.893985</td>\n",
       "    </tr>\n",
       "    <tr>\n",
       "      <th>8</th>\n",
       "      <td>9</td>\n",
       "      <td>2854</td>\n",
       "      <td>2961.156391</td>\n",
       "    </tr>\n",
       "    <tr>\n",
       "      <th>9</th>\n",
       "      <td>10</td>\n",
       "      <td>3275</td>\n",
       "      <td>2964.418797</td>\n",
       "    </tr>\n",
       "    <tr>\n",
       "      <th>10</th>\n",
       "      <td>11</td>\n",
       "      <td>2406</td>\n",
       "      <td>2967.681203</td>\n",
       "    </tr>\n",
       "    <tr>\n",
       "      <th>11</th>\n",
       "      <td>12</td>\n",
       "      <td>3375</td>\n",
       "      <td>2970.943609</td>\n",
       "    </tr>\n",
       "    <tr>\n",
       "      <th>12</th>\n",
       "      <td>13</td>\n",
       "      <td>2622</td>\n",
       "      <td>2974.206015</td>\n",
       "    </tr>\n",
       "    <tr>\n",
       "      <th>13</th>\n",
       "      <td>14</td>\n",
       "      <td>2043</td>\n",
       "      <td>2977.468421</td>\n",
       "    </tr>\n",
       "    <tr>\n",
       "      <th>14</th>\n",
       "      <td>15</td>\n",
       "      <td>3325</td>\n",
       "      <td>2980.730827</td>\n",
       "    </tr>\n",
       "    <tr>\n",
       "      <th>15</th>\n",
       "      <td>16</td>\n",
       "      <td>3412</td>\n",
       "      <td>2983.993233</td>\n",
       "    </tr>\n",
       "    <tr>\n",
       "      <th>16</th>\n",
       "      <td>17</td>\n",
       "      <td>2771</td>\n",
       "      <td>2987.255639</td>\n",
       "    </tr>\n",
       "    <tr>\n",
       "      <th>17</th>\n",
       "      <td>18</td>\n",
       "      <td>3252</td>\n",
       "      <td>2990.518045</td>\n",
       "    </tr>\n",
       "    <tr>\n",
       "      <th>18</th>\n",
       "      <td>19</td>\n",
       "      <td>3111</td>\n",
       "      <td>2993.780451</td>\n",
       "    </tr>\n",
       "    <tr>\n",
       "      <th>19</th>\n",
       "      <td>20</td>\n",
       "      <td>2864</td>\n",
       "      <td>2997.042857</td>\n",
       "    </tr>\n",
       "  </tbody>\n",
       "</table>\n",
       "</div>"
      ],
      "text/plain": [
       "    periodo  data     pred_slr\n",
       "0         1  3141  2935.057143\n",
       "1         2  2087  2938.319549\n",
       "2         3  3102  2941.581955\n",
       "3         4  3415  2944.844361\n",
       "4         5  3373  2948.106767\n",
       "5         6  2352  2951.369173\n",
       "6         7  3135  2954.631579\n",
       "7         8  3406  2957.893985\n",
       "8         9  2854  2961.156391\n",
       "9        10  3275  2964.418797\n",
       "10       11  2406  2967.681203\n",
       "11       12  3375  2970.943609\n",
       "12       13  2622  2974.206015\n",
       "13       14  2043  2977.468421\n",
       "14       15  3325  2980.730827\n",
       "15       16  3412  2983.993233\n",
       "16       17  2771  2987.255639\n",
       "17       18  3252  2990.518045\n",
       "18       19  3111  2993.780451\n",
       "19       20  2864  2997.042857"
      ]
     },
     "execution_count": 23,
     "metadata": {},
     "output_type": "execute_result"
    }
   ],
   "source": [
    "import numpy as np\n",
    "import pandas as pd\n",
    "import matplotlib.pyplot as plt\n",
    "%matplotlib inline\n",
    "import random as ra\n",
    "import math as ma\n",
    "\n",
    "#Regresión lineal Simple\n",
    "def SLR(data,x):\n",
    "        y=np.array(list(data))\n",
    "        x_bar=x.mean()\n",
    "        y_bar=y.mean()\n",
    "        xy=np.dot(x,y)\n",
    "        xx=np.dot(x,x)\n",
    "        n=len(y)\n",
    "        a=(xy-n*y_bar*x_bar)/(xx-n*x_bar*x_bar)\n",
    "        b=y_bar-a*x_bar\n",
    "        y_hat=a*x+b\n",
    "        return y_hat, [a,b]\n",
    "\n",
    "data = [3141,2087,3102,3415,3373,2352,3135,3406,2854,3275,2406,3375,2622,2043,3325,3412,2771,3252,3111,2864]    \n",
    "x_rl=np.array([i for i in range(1,len(data)+1)])\n",
    "pred_slr,slr_params=SLR(data,x_rl)\n",
    "df=pd.DataFrame()\n",
    "df['periodo'] = x_rl\n",
    "df['data'] = data\n",
    "df['pred_slr']=pred_slr\n",
    "df"
   ]
  },
  {
   "cell_type": "code",
   "execution_count": 25,
   "metadata": {},
   "outputs": [
    {
     "data": {
      "text/plain": [
       "<AxesSubplot:>"
      ]
     },
     "execution_count": 25,
     "metadata": {},
     "output_type": "execute_result"
    },
    {
     "data": {
      "image/png": "[encoded data removed]",
      "text/plain": [
       "<Figure size 1152x432 with 1 Axes>"
      ]
     },
     "metadata": {
      "needs_background": "light"
     },
     "output_type": "display_data"
    }
   ],
   "source": [
    "#Gráfico\n",
    "df[['data','pred_slr']].plot(figsize=(16,6))\n"
   ]
  },
  {
   "cell_type": "code",
   "execution_count": 28,
   "metadata": {},
   "outputs": [
    {
     "data": {
      "text/plain": [
       "375.5499248120301"
      ]
     },
     "execution_count": 28,
     "metadata": {},
     "output_type": "execute_result"
    }
   ],
   "source": [
    "#MAD\n",
    "def MADn(data,pred,n):\n",
    "    aux=0\n",
    "    for i in range (n): \n",
    "        aux+=abs(data[i]-pred[i])\n",
    "    resultado=aux/n\n",
    "    return resultado\n",
    "\n",
    "MADn(data,pred_slr,20)"
   ]
  },
  {
   "cell_type": "code",
   "execution_count": 29,
   "metadata": {},
   "outputs": [
    {
     "data": {
      "text/plain": [
       "-1.453060658544636e-14"
      ]
     },
     "execution_count": 29,
     "metadata": {},
     "output_type": "execute_result"
    }
   ],
   "source": [
    "#TS\n",
    "def TSn(data,pred,n):\n",
    "    aux=0\n",
    "    aux2=0\n",
    "    for i in range(n):\n",
    "        aux+= data[i]-pred[i]\n",
    "        aux2+= abs(data[i] - pred[i])\n",
    "    resultado=n*(aux/aux2)\n",
    "    return resultado\n",
    "    \n",
    "TSn(data,pred_slr,20)"
   ]
  }
 ],
 "metadata": {
  "kernelspec": {
   "display_name": "Python 3",
   "language": "python",
   "name": "python3"
  },
  "language_info": {
   "codemirror_mode": {
    "name": "ipython",
    "version": 3
   },
   "file_extension": ".py",
   "mimetype": "text/x-python",
   "name": "python",
   "nbconvert_exporter": "python",
   "pygments_lexer": "ipython3",
   "version": "3.7.9"
  },
  "varInspector": {
   "cols": {
    "lenName": 16,
    "lenType": 16,
    "lenVar": 40
   },
   "kernels_config": {
    "python": {
     "delete_cmd_postfix": "",
     "delete_cmd_prefix": "del ",
     "library": "var_list.py",
     "varRefreshCmd": "print(var_dic_list())"
    },
    "r": {
     "delete_cmd_postfix": ") ",
     "delete_cmd_prefix": "rm(",
     "library": "var_list.r",
     "varRefreshCmd": "cat(var_dic_list()) "
    }
   },
   "types_to_exclude": [
    "module",
    "function",
    "builtin_function_or_method",
    "instance",
    "_Feature"
   ],
   "window_display": false
  }
 },
 "nbformat": 4,
 "nbformat_minor": 4
}
